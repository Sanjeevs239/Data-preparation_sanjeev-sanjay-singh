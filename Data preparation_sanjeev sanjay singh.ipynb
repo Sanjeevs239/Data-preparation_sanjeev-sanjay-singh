{
 "cells": [
  {
   "cell_type": "markdown",
   "id": "688e9671-caaf-4c52-a40f-0c47f94417d1",
   "metadata": {},
   "source": [
    "# Data Preparation\n",
    "\n",
    "## Objective\n",
    "The objective of this notebook is to prepare the online retail dataset for clustering analysis. The steps include loading, exploring, cleaning, engineering features, transforming the data, and finally saving the cleaned dataset. This data preparation pipeline will help identify customer segments using unsupervised learning techniques like K-means clustering.\n"
   ]
  },
  {
   "cell_type": "code",
   "execution_count": 1,
   "id": "145042b8-efd9-41b0-8a14-b4014d9b13b2",
   "metadata": {},
   "outputs": [],
   "source": [
    "import numpy as np\n",
    "import pandas as pd"
   ]
  },
  {
   "cell_type": "markdown",
   "id": "128e549f-cf54-4fa2-bf4d-be09561c315d",
   "metadata": {},
   "source": [
    "## 1. Loading Data"
   ]
  },
  {
   "cell_type": "code",
   "execution_count": 2,
   "id": "fd012680-30c4-4699-a92a-66a9a7621b03",
   "metadata": {},
   "outputs": [
    {
     "data": {
      "text/html": [
       "<div>\n",
       "<style scoped>\n",
       "    .dataframe tbody tr th:only-of-type {\n",
       "        vertical-align: middle;\n",
       "    }\n",
       "\n",
       "    .dataframe tbody tr th {\n",
       "        vertical-align: top;\n",
       "    }\n",
       "\n",
       "    .dataframe thead th {\n",
       "        text-align: right;\n",
       "    }\n",
       "</style>\n",
       "<table border=\"1\" class=\"dataframe\">\n",
       "  <thead>\n",
       "    <tr style=\"text-align: right;\">\n",
       "      <th></th>\n",
       "      <th>InvoiceNo</th>\n",
       "      <th>StockCode</th>\n",
       "      <th>Description</th>\n",
       "      <th>Quantity</th>\n",
       "      <th>InvoiceDate</th>\n",
       "      <th>UnitPrice</th>\n",
       "      <th>CustomerID</th>\n",
       "      <th>Country</th>\n",
       "    </tr>\n",
       "  </thead>\n",
       "  <tbody>\n",
       "    <tr>\n",
       "      <th>0</th>\n",
       "      <td>536365</td>\n",
       "      <td>85123A</td>\n",
       "      <td>WHITE HANGING HEART T-LIGHT HOLDER</td>\n",
       "      <td>6</td>\n",
       "      <td>2010-12-01 08:26:00</td>\n",
       "      <td>2.55</td>\n",
       "      <td>17850.0</td>\n",
       "      <td>United Kingdom</td>\n",
       "    </tr>\n",
       "    <tr>\n",
       "      <th>1</th>\n",
       "      <td>536365</td>\n",
       "      <td>71053</td>\n",
       "      <td>WHITE METAL LANTERN</td>\n",
       "      <td>6</td>\n",
       "      <td>2010-12-01 08:26:00</td>\n",
       "      <td>3.39</td>\n",
       "      <td>17850.0</td>\n",
       "      <td>United Kingdom</td>\n",
       "    </tr>\n",
       "    <tr>\n",
       "      <th>2</th>\n",
       "      <td>536365</td>\n",
       "      <td>84406B</td>\n",
       "      <td>CREAM CUPID HEARTS COAT HANGER</td>\n",
       "      <td>8</td>\n",
       "      <td>2010-12-01 08:26:00</td>\n",
       "      <td>2.75</td>\n",
       "      <td>17850.0</td>\n",
       "      <td>United Kingdom</td>\n",
       "    </tr>\n",
       "    <tr>\n",
       "      <th>3</th>\n",
       "      <td>536365</td>\n",
       "      <td>84029G</td>\n",
       "      <td>KNITTED UNION FLAG HOT WATER BOTTLE</td>\n",
       "      <td>6</td>\n",
       "      <td>2010-12-01 08:26:00</td>\n",
       "      <td>3.39</td>\n",
       "      <td>17850.0</td>\n",
       "      <td>United Kingdom</td>\n",
       "    </tr>\n",
       "    <tr>\n",
       "      <th>4</th>\n",
       "      <td>536365</td>\n",
       "      <td>84029E</td>\n",
       "      <td>RED WOOLLY HOTTIE WHITE HEART.</td>\n",
       "      <td>6</td>\n",
       "      <td>2010-12-01 08:26:00</td>\n",
       "      <td>3.39</td>\n",
       "      <td>17850.0</td>\n",
       "      <td>United Kingdom</td>\n",
       "    </tr>\n",
       "  </tbody>\n",
       "</table>\n",
       "</div>"
      ],
      "text/plain": [
       "  InvoiceNo StockCode                          Description  Quantity  \\\n",
       "0    536365    85123A   WHITE HANGING HEART T-LIGHT HOLDER         6   \n",
       "1    536365     71053                  WHITE METAL LANTERN         6   \n",
       "2    536365    84406B       CREAM CUPID HEARTS COAT HANGER         8   \n",
       "3    536365    84029G  KNITTED UNION FLAG HOT WATER BOTTLE         6   \n",
       "4    536365    84029E       RED WOOLLY HOTTIE WHITE HEART.         6   \n",
       "\n",
       "          InvoiceDate  UnitPrice  CustomerID         Country  \n",
       "0 2010-12-01 08:26:00       2.55     17850.0  United Kingdom  \n",
       "1 2010-12-01 08:26:00       3.39     17850.0  United Kingdom  \n",
       "2 2010-12-01 08:26:00       2.75     17850.0  United Kingdom  \n",
       "3 2010-12-01 08:26:00       3.39     17850.0  United Kingdom  \n",
       "4 2010-12-01 08:26:00       3.39     17850.0  United Kingdom  "
      ]
     },
     "execution_count": 2,
     "metadata": {},
     "output_type": "execute_result"
    }
   ],
   "source": [
    "df=pd.read_excel(r\"C:\\Users\\HP\\Downloads\\Online Retail.xlsx\")\n",
    "df.head()"
   ]
  },
  {
   "cell_type": "markdown",
   "id": "455c2d06-9735-490f-b33f-71a20076787e",
   "metadata": {},
   "source": [
    "## 2. Exploring Data"
   ]
  },
  {
   "cell_type": "code",
   "execution_count": 4,
   "id": "e9610ed7-7f4a-4a33-907c-8c080932745c",
   "metadata": {},
   "outputs": [
    {
     "name": "stdout",
     "output_type": "stream",
     "text": [
      "<class 'pandas.core.frame.DataFrame'>\n",
      "RangeIndex: 541909 entries, 0 to 541908\n",
      "Data columns (total 8 columns):\n",
      " #   Column       Non-Null Count   Dtype         \n",
      "---  ------       --------------   -----         \n",
      " 0   InvoiceNo    541909 non-null  object        \n",
      " 1   StockCode    541909 non-null  object        \n",
      " 2   Description  540455 non-null  object        \n",
      " 3   Quantity     541909 non-null  int64         \n",
      " 4   InvoiceDate  541909 non-null  datetime64[ns]\n",
      " 5   UnitPrice    541909 non-null  float64       \n",
      " 6   CustomerID   406829 non-null  float64       \n",
      " 7   Country      541909 non-null  object        \n",
      "dtypes: datetime64[ns](1), float64(2), int64(1), object(4)\n",
      "memory usage: 33.1+ MB\n",
      "None\n"
     ]
    }
   ],
   "source": [
    "print(df.info())"
   ]
  },
  {
   "cell_type": "code",
   "execution_count": 5,
   "id": "67747ace-608e-45df-98c7-44fe7e55decb",
   "metadata": {},
   "outputs": [
    {
     "name": "stdout",
     "output_type": "stream",
     "text": [
      "            Quantity                    InvoiceDate      UnitPrice  \\\n",
      "count  541909.000000                         541909  541909.000000   \n",
      "mean        9.552250  2011-07-04 13:34:57.156386048       4.611114   \n",
      "min    -80995.000000            2010-12-01 08:26:00  -11062.060000   \n",
      "25%         1.000000            2011-03-28 11:34:00       1.250000   \n",
      "50%         3.000000            2011-07-19 17:17:00       2.080000   \n",
      "75%        10.000000            2011-10-19 11:27:00       4.130000   \n",
      "max     80995.000000            2011-12-09 12:50:00   38970.000000   \n",
      "std       218.081158                            NaN      96.759853   \n",
      "\n",
      "          CustomerID  \n",
      "count  406829.000000  \n",
      "mean    15287.690570  \n",
      "min     12346.000000  \n",
      "25%     13953.000000  \n",
      "50%     15152.000000  \n",
      "75%     16791.000000  \n",
      "max     18287.000000  \n",
      "std      1713.600303  \n"
     ]
    }
   ],
   "source": [
    "# Statistical summary (for numerical columns)\n",
    "print(df.describe())"
   ]
  },
  {
   "cell_type": "code",
   "execution_count": 6,
   "id": "65e631af-8e65-4fd7-b232-88d81e7a491e",
   "metadata": {},
   "outputs": [
    {
     "name": "stdout",
     "output_type": "stream",
     "text": [
      "InvoiceNo           0\n",
      "StockCode           0\n",
      "Description      1454\n",
      "Quantity            0\n",
      "InvoiceDate         0\n",
      "UnitPrice           0\n",
      "CustomerID     135080\n",
      "Country             0\n",
      "dtype: int64\n"
     ]
    }
   ],
   "source": [
    "# Check missing values per column\n",
    "print(df.isnull().sum())"
   ]
  },
  {
   "cell_type": "markdown",
   "id": "6afd367d-8823-4118-beb3-3c8bf50d2496",
   "metadata": {},
   "source": [
    "## 3. Cleaning Data"
   ]
  },
  {
   "cell_type": "code",
   "execution_count": 14,
   "id": "0c006cfe-e51d-4a3b-9e89-a8ac534d9dd5",
   "metadata": {},
   "outputs": [
    {
     "name": "stdout",
     "output_type": "stream",
     "text": [
      "InvoiceNo           0\n",
      "StockCode           0\n",
      "Description         0\n",
      "Quantity            0\n",
      "InvoiceDate         0\n",
      "UnitPrice           0\n",
      "CustomerID     133626\n",
      "Country             0\n",
      "dtype: int64\n"
     ]
    }
   ],
   "source": [
    "# Dropping rows with missing 'Description'\n",
    "df_cleaned = df.dropna(subset=['Description']).copy()\n",
    "\n",
    "# Check missing values again\n",
    "print(df_cleaned.isnull().sum())\n"
   ]
  },
  {
   "cell_type": "code",
   "execution_count": 15,
   "id": "05ef4ccb-8db9-4cce-857a-40d0c1a76849",
   "metadata": {},
   "outputs": [],
   "source": [
    "# Fill missing CustomerID with 'Unknown'\n",
    "df_cleaned['CustomerID'] = df_cleaned['CustomerID'].fillna('Unknown')\n"
   ]
  },
  {
   "cell_type": "code",
   "execution_count": 16,
   "id": "cbe72318-5001-4818-a8c4-1e85bc324f25",
   "metadata": {},
   "outputs": [
    {
     "name": "stdout",
     "output_type": "stream",
     "text": [
      "Remaining rows after duplicate removal: 535187\n"
     ]
    }
   ],
   "source": [
    "# Remove duplicate entries\n",
    "df_cleaned = df_cleaned.drop_duplicates()\n",
    "\n",
    "# Confirm number of rows after removing duplicates\n",
    "print(f\"Remaining rows after duplicate removal: {df_cleaned.shape[0]}\")\n"
   ]
  },
  {
   "cell_type": "code",
   "execution_count": 17,
   "id": "48a32fdc-03ac-4336-849c-b9eb5cd4ec01",
   "metadata": {},
   "outputs": [
    {
     "name": "stdout",
     "output_type": "stream",
     "text": [
      "InvoiceNo              object\n",
      "StockCode              object\n",
      "Description            object\n",
      "Quantity                int64\n",
      "InvoiceDate    datetime64[ns]\n",
      "UnitPrice             float64\n",
      "CustomerID             object\n",
      "Country                object\n",
      "dtype: object\n"
     ]
    }
   ],
   "source": [
    "# Convert InvoiceDate to datetime\n",
    "df_cleaned['InvoiceDate'] = pd.to_datetime(df_cleaned['InvoiceDate'])\n",
    "\n",
    "# Ensure CustomerID is string\n",
    "df_cleaned['CustomerID'] = df_cleaned['CustomerID'].astype(str)\n",
    "\n",
    "# Check updated data types\n",
    "print(df_cleaned.dtypes)\n"
   ]
  },
  {
   "cell_type": "markdown",
   "id": "d38a7823-256b-4be0-862b-76b11f34c02c",
   "metadata": {},
   "source": [
    "## 4. Feature Engineering"
   ]
  },
  {
   "cell_type": "code",
   "execution_count": 18,
   "id": "e57ee298-abb8-40d0-b20d-39eb218e928d",
   "metadata": {},
   "outputs": [
    {
     "name": "stdout",
     "output_type": "stream",
     "text": [
      "   Quantity  Quantity_scaled  UnitPrice  UnitPrice_scaled\n",
      "0         6        -0.016761       2.55         -0.021520\n",
      "1         6        -0.016761       3.39         -0.012892\n",
      "2         8        -0.007631       2.75         -0.019465\n",
      "3         6        -0.016761       3.39         -0.012892\n",
      "4         6        -0.016761       3.39         -0.012892\n"
     ]
    }
   ],
   "source": [
    "from sklearn.preprocessing import StandardScaler\n",
    "\n",
    "# Initialize the scaler\n",
    "scaler = StandardScaler()\n",
    "\n",
    "# Scale 'Quantity' and 'UnitPrice'\n",
    "df_cleaned[['Quantity_scaled', 'UnitPrice_scaled']] = scaler.fit_transform(df_cleaned[['Quantity', 'UnitPrice']])\n",
    "\n",
    "# View the scaled columns\n",
    "print(df_cleaned[['Quantity', 'Quantity_scaled', 'UnitPrice', 'UnitPrice_scaled']].head())\n"
   ]
  },
  {
   "cell_type": "code",
   "execution_count": 19,
   "id": "67fc0d66-f558-45a1-a7f9-00226afaf40f",
   "metadata": {},
   "outputs": [
    {
     "name": "stdout",
     "output_type": "stream",
     "text": [
      "Shape after encoding: (535187, 46)\n"
     ]
    }
   ],
   "source": [
    "# One-Hot Encoding for 'Country' (drop_first=True to avoid dummy trap)\n",
    "df_encoded = pd.get_dummies(df_cleaned, columns=['Country'], drop_first=True)\n",
    "\n",
    "# View encoded dataframe shape\n",
    "print(f\"Shape after encoding: {df_encoded.shape}\")\n"
   ]
  },
  {
   "cell_type": "code",
   "execution_count": 20,
   "id": "cac7d8f2-f742-41e4-b377-910e1f75aace",
   "metadata": {},
   "outputs": [
    {
     "name": "stdout",
     "output_type": "stream",
     "text": [
      "   Quantity  UnitPrice  TotalAmount\n",
      "0         6       2.55        15.30\n",
      "1         6       3.39        20.34\n",
      "2         8       2.75        22.00\n",
      "3         6       3.39        20.34\n",
      "4         6       3.39        20.34\n"
     ]
    }
   ],
   "source": [
    "# Creating TotalAmount feature\n",
    "df_encoded['TotalAmount'] = df_encoded['Quantity'] * df_encoded['UnitPrice']\n",
    "\n",
    "# View sample\n",
    "print(df_encoded[['Quantity', 'UnitPrice', 'TotalAmount']].head())\n"
   ]
  },
  {
   "cell_type": "code",
   "execution_count": 21,
   "id": "145398e8-b254-4611-bc49-c37f1242f01a",
   "metadata": {},
   "outputs": [
    {
     "name": "stdout",
     "output_type": "stream",
     "text": [
      "          InvoiceDate YearMonth\n",
      "0 2010-12-01 08:26:00   2010-12\n",
      "1 2010-12-01 08:26:00   2010-12\n",
      "2 2010-12-01 08:26:00   2010-12\n",
      "3 2010-12-01 08:26:00   2010-12\n",
      "4 2010-12-01 08:26:00   2010-12\n"
     ]
    }
   ],
   "source": [
    "# Extract YearMonth for time-based analysis\n",
    "df_encoded['YearMonth'] = df_encoded['InvoiceDate'].dt.to_period('M')\n",
    "\n",
    "# View sample\n",
    "print(df_encoded[['InvoiceDate', 'YearMonth']].head())\n"
   ]
  },
  {
   "cell_type": "code",
   "execution_count": 22,
   "id": "f6121594-58d4-4623-bc83-225535e8fc68",
   "metadata": {},
   "outputs": [
    {
     "name": "stdout",
     "output_type": "stream",
     "text": [
      "          InvoiceDate  InvoiceHour\n",
      "0 2010-12-01 08:26:00            8\n",
      "1 2010-12-01 08:26:00            8\n",
      "2 2010-12-01 08:26:00            8\n",
      "3 2010-12-01 08:26:00            8\n",
      "4 2010-12-01 08:26:00            8\n"
     ]
    }
   ],
   "source": [
    "# Extract Hour from InvoiceDate\n",
    "df_encoded['InvoiceHour'] = df_encoded['InvoiceDate'].dt.hour\n",
    "\n",
    "# View sample\n",
    "print(df_encoded[['InvoiceDate', 'InvoiceHour']].head())\n"
   ]
  },
  {
   "cell_type": "code",
   "execution_count": 23,
   "id": "ee38afda-0d2c-4430-a5b5-2ea6c4b002db",
   "metadata": {},
   "outputs": [
    {
     "name": "stdout",
     "output_type": "stream",
     "text": [
      "TotalAmount                     1.000000\n",
      "Quantity                        0.888196\n",
      "Quantity_scaled                 0.888196\n",
      "Country_Netherlands             0.017831\n",
      "Country_Japan                   0.005467\n",
      "Country_Sweden                  0.004713\n",
      "Country_EIRE                    0.004565\n",
      "Country_Denmark                 0.002128\n",
      "Country_Germany                 0.001829\n",
      "Country_Norway                  0.001681\n",
      "Country_France                  0.001647\n",
      "Country_Switzerland             0.001619\n",
      "Country_Finland                 0.001320\n",
      "Country_Singapore               0.001175\n",
      "Country_Hong Kong               0.001010\n",
      "Country_Channel Islands         0.000824\n",
      "Country_Spain                   0.000630\n",
      "Country_Lithuania               0.000621\n",
      "Country_Greece                  0.000611\n",
      "Country_Israel                  0.000535\n",
      "Country_Austria                 0.000514\n",
      "Country_Lebanon                 0.000468\n",
      "Country_Brazil                  0.000356\n",
      "Country_Italy                   0.000291\n",
      "Country_United Arab Emirates    0.000290\n",
      "Country_Canada                  0.000269\n",
      "Country_Iceland                 0.000267\n",
      "Country_Belgium                 0.000262\n",
      "Country_Cyprus                  0.000255\n",
      "Country_Poland                  0.000197\n",
      "Country_Portugal                0.000172\n",
      "Country_Bahrain                 0.000167\n",
      "Country_Czech Republic          0.000106\n",
      "Country_European Community      0.000084\n",
      "Country_Malta                   0.000063\n",
      "Country_RSA                    -0.000024\n",
      "Country_Saudi Arabia           -0.000057\n",
      "Country_Unspecified            -0.000562\n",
      "Country_USA                    -0.000748\n",
      "InvoiceHour                    -0.009120\n",
      "Country_United Kingdom         -0.012493\n",
      "UnitPrice                      -0.162050\n",
      "UnitPrice_scaled               -0.162050\n",
      "Name: TotalAmount, dtype: float64\n"
     ]
    }
   ],
   "source": [
    "# Compute correlation matrix\n",
    "corr_matrix = df_encoded.corr(numeric_only=True)\n",
    "\n",
    "# Correlation of all features with TotalAmount\n",
    "print(corr_matrix['TotalAmount'].sort_values(ascending=False))\n"
   ]
  },
  {
   "cell_type": "code",
   "execution_count": 24,
   "id": "9eba0289-f447-483e-af9b-9d2e4ec041a5",
   "metadata": {},
   "outputs": [],
   "source": [
    "df_cleaned.to_csv(\"cleaned_retail_data.csv\", index=False)"
   ]
  },
  {
   "cell_type": "markdown",
   "id": "983ad7f2-63aa-4d3d-af69-f1d376188026",
   "metadata": {},
   "source": [
    "## Conclusion\n",
    "\n",
    "In this notebook, we performed comprehensive data preparation on the online retail dataset. The process included loading, exploring, cleaning, feature engineering, and transforming the data using scaling techniques. The cleaned and preprocessed dataset is now ready for clustering analysis in the next step.\n",
    "\n",
    "This preparation lays the groundwork for identifying meaningful customer segments, which will help the business improve targeting and personalization strategies.\n"
   ]
  },
  {
   "cell_type": "code",
   "execution_count": null,
   "id": "15cd37f7-3b9f-4069-9fc6-0f2bf8ce91dd",
   "metadata": {},
   "outputs": [],
   "source": []
  }
 ],
 "metadata": {
  "kernelspec": {
   "display_name": "Python 3 (ipykernel)",
   "language": "python",
   "name": "python3"
  },
  "language_info": {
   "codemirror_mode": {
    "name": "ipython",
    "version": 3
   },
   "file_extension": ".py",
   "mimetype": "text/x-python",
   "name": "python",
   "nbconvert_exporter": "python",
   "pygments_lexer": "ipython3",
   "version": "3.12.7"
  }
 },
 "nbformat": 4,
 "nbformat_minor": 5
}
